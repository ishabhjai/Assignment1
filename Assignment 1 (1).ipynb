{
 "cells": [
  {
   "cell_type": "code",
   "execution_count": 2,
   "id": "efb7a2e9",
   "metadata": {},
   "outputs": [
    {
     "name": "stdout",
     "output_type": "stream",
     "text": [
      "Enter a year: 2001\n",
      "[1] \"2001 is not a leap year.\"\n"
     ]
    }
   ],
   "source": [
    "# Function to check if a year is a leap year\n",
    "is_leap_year <- function(year) {\n",
    "  if (year %% 4 == 0) {\n",
    "    if (year %% 100 != 0 || year %% 400 == 0) {\n",
    "      return(TRUE)  # Leap year\n",
    "    }\n",
    "  }\n",
    "  return(FALSE)  # Not a leap year\n",
    "}\n",
    "\n",
    "# Prompt the user to enter a year\n",
    "year <- as.integer(readline(\"Enter a year: \"))\n",
    "if (is_leap_year(year)) {\n",
    "  print(paste(year, \"is a leap year.\"))\n",
    "} else {\n",
    "  print(paste(year, \"is not a leap year.\"))\n",
    "}\n"
   ]
  },
  {
   "cell_type": "code",
   "execution_count": null,
   "id": "ecbd1acf",
   "metadata": {},
   "outputs": [],
   "source": []
  }
 ],
 "metadata": {
  "kernelspec": {
   "display_name": "R",
   "language": "R",
   "name": "ir"
  },
  "language_info": {
   "codemirror_mode": "r",
   "file_extension": ".r",
   "mimetype": "text/x-r-source",
   "name": "R",
   "pygments_lexer": "r",
   "version": "4.1.3"
  }
 },
 "nbformat": 4,
 "nbformat_minor": 5
}
